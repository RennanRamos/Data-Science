{
 "cells": [
  {
   "cell_type": "code",
   "execution_count": 115,
   "metadata": {},
   "outputs": [],
   "source": [
    "import pandas as pd"
   ]
  },
  {
   "cell_type": "code",
   "execution_count": 116,
   "metadata": {},
   "outputs": [],
   "source": [
    "evolucao =  {'Evolução' : ['Ivysaur', 'Charmeleon', 'Wartortle', 'Metapod']}\n",
    "hp = {'HP' : [45, 39, 44, 45]}\n",
    "nome = {'Nome' : ['Bulbasaur', 'Charmander', 'Squirtle', 'Caterpie']}\n",
    "pokedex = {'Pokedex' : ['Sim', 'Não', 'Sim', 'Não']}\n",
    "tipo = {'Tipo' : ['Planta', 'Fogo', 'Água', 'Inseto']}"
   ]
  },
  {
   "cell_type": "code",
   "execution_count": 117,
   "metadata": {},
   "outputs": [],
   "source": [
    "evolucao_s = pd.Series ({'Evolução' : ['Ivysaur', 'Charmeleon', 'Wartortle', 'Metapod']})\n",
    "hp_s = pd.Series ({'HP' : [45, 39, 44, 45]})\n",
    "nome_s = pd.Series ({'Nome' : ['Bulbasaur', 'Charmander', 'Squirtle', 'Caterpie']})\n",
    "pokedex_s = pd.Series ({'Pokedex' : ['Sim', 'Não', 'Sim', 'Não']})\n",
    "tipo_s = pd.Series ({'Tipo' : ['Planta', 'Fogo', 'Água', 'Inseto']})"
   ]
  },
  {
   "cell_type": "code",
   "execution_count": 118,
   "metadata": {
    "scrolled": true
   },
   "outputs": [],
   "source": [
    "pokemon = pd.DataFrame ()\n",
    "\n",
    "pokemon['Evolução'] = evolucao['Evolução']\n",
    "pokemon['HP'] = hp['HP']\n",
    "pokemon['Nome'] = nome['Nome']\n",
    "pokemon['Pokedex'] = pokedex['Pokedex']\n",
    "pokemon['Tipo'] = tipo['Tipo']\n",
    "\n",
    "pokemon_s = pd.DataFrame()\n",
    "pokemon_s['Evolução'] = evolucao_s[0]\n",
    "pokemon_s['HP'] = hp_s[0]\n",
    "pokemon_s['Nome'] = nome_s[0]\n",
    "pokemon_s['Pokedex'] = pokedex_s[0]\n",
    "pokemon_s['Tipo'] = tipo_s[0]"
   ]
  },
  {
   "cell_type": "code",
   "execution_count": 119,
   "metadata": {},
   "outputs": [],
   "source": [
    "pokemon = pokemon[['Nome', 'Evolução', 'Tipo', 'HP', 'Pokedex']] \n",
    "pokemon_s = pokemon_s[['Nome', 'Evolução', 'Tipo', 'HP', 'Pokedex']] "
   ]
  },
  {
   "cell_type": "code",
   "execution_count": 120,
   "metadata": {},
   "outputs": [],
   "source": [
    "pokemon.set_index('Nome', inplace = True)\n",
    "pokemon_s.set_index('Nome', inplace = True)"
   ]
  },
  {
   "cell_type": "code",
   "execution_count": 121,
   "metadata": {},
   "outputs": [],
   "source": [
    "pokemon.insert(4, 'Nota', [10, 20, 30, 40], True)\n",
    "pokemon_s.insert(4, 'Nota', [10, 20, 30, 40], True)"
   ]
  },
  {
   "cell_type": "code",
   "execution_count": 124,
   "metadata": {},
   "outputs": [],
   "source": [
    "tipo_coluna = pokemon.dtypes\n",
    "tipo_coluna_s = pokemon_s.dtypes\n"
   ]
  },
  {
   "cell_type": "code",
   "execution_count": null,
   "metadata": {},
   "outputs": [],
   "source": []
  }
 ],
 "metadata": {
  "kernelspec": {
   "display_name": "Python 3",
   "language": "python",
   "name": "python3"
  },
  "language_info": {
   "codemirror_mode": {
    "name": "ipython",
    "version": 3
   },
   "file_extension": ".py",
   "mimetype": "text/x-python",
   "name": "python",
   "nbconvert_exporter": "python",
   "pygments_lexer": "ipython3",
   "version": "3.7.4"
  }
 },
 "nbformat": 4,
 "nbformat_minor": 2
}
